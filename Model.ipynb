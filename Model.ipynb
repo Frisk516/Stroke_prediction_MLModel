{
 "cells": [
  {
   "cell_type": "code",
   "execution_count": 1,
   "id": "2ca4bb60",
   "metadata": {},
   "outputs": [],
   "source": [
    "#data manipulation libraries\n",
    "import numpy as np\n",
    "import pandas as pd\n",
    "\n",
    "#visualization libraries\n",
    "import matplotlib.pyplot as plt\n",
    "import seaborn as sns\n",
    "\n",
    "#logging\n",
    "import logging\n",
    "logging.basicConfig(level=logging.INFO,\n",
    "filemode='w',\n",
    "format='%(asctime)s %(levelname)s %(message)s')\n",
    "\n",
    "#warnings\n",
    "import warnings\n",
    "warnings.filterwarnings(\"ignore\")"
   ]
  },
  {
   "cell_type": "code",
   "execution_count": null,
   "id": "b878ebca",
   "metadata": {},
   "outputs": [],
   "source": [
    "#import data\n",
    "url="
   ]
  }
 ],
 "metadata": {
  "kernelspec": {
   "display_name": "base",
   "language": "python",
   "name": "python3"
  },
  "language_info": {
   "codemirror_mode": {
    "name": "ipython",
    "version": 3
   },
   "file_extension": ".py",
   "mimetype": "text/x-python",
   "name": "python",
   "nbconvert_exporter": "python",
   "pygments_lexer": "ipython3",
   "version": "3.12.7"
  }
 },
 "nbformat": 4,
 "nbformat_minor": 5
}
